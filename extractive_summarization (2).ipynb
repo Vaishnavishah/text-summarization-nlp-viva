{
 "cells": [
  {
   "cell_type": "code",
   "execution_count": 18,
   "metadata": {},
   "outputs": [],
   "source": [
    "import nltk\n",
    "from nltk.corpus import stopwords\n",
    "from nltk.cluster.util import cosine_distance\n",
    "import numpy as np\n",
    "import networkx as nx"
   ]
  },
  {
   "cell_type": "code",
   "execution_count": 19,
   "metadata": {},
   "outputs": [],
   "source": [
    "def read_article(file_name):\n",
    "    file = open(file_name, \"r\")\n",
    "    filedata = file.readlines()\n",
    "    article = filedata[0].split(\". \")\n",
    "    sentences = []\n",
    "\n",
    "    for sentence in article:\n",
    "        print(sentence)\n",
    "        sentences.append(sentence.replace(\"[^a-zA-Z]\", \" \").split(\" \"))\n",
    "    sentences.pop() \n",
    "    \n",
    "    return sentences"
   ]
  },
  {
   "cell_type": "code",
   "execution_count": 20,
   "metadata": {},
   "outputs": [],
   "source": [
    "def sentence_similarity(sent1, sent2, stopwords=None):\n",
    "    if stopwords is None:\n",
    "        stopwords = []\n",
    " \n",
    "    sent1 = [w.lower() for w in sent1]\n",
    "    sent2 = [w.lower() for w in sent2]\n",
    " \n",
    "    all_words = list(set(sent1 + sent2))\n",
    " \n",
    "    vector1 = [0] * len(all_words)\n",
    "    vector2 = [0] * len(all_words)\n",
    " \n",
    "    # build the vector for the first sentence\n",
    "    for w in sent1:\n",
    "        if w in stopwords:\n",
    "            continue\n",
    "        vector1[all_words.index(w)] += 1\n",
    " \n",
    "    # build the vector for the second sentence\n",
    "    for w in sent2:\n",
    "        if w in stopwords:\n",
    "            continue\n",
    "        vector2[all_words.index(w)] += 1\n",
    " \n",
    "    return 1 - cosine_distance(vector1, vector2)"
   ]
  },
  {
   "cell_type": "code",
   "execution_count": 21,
   "metadata": {},
   "outputs": [],
   "source": [
    "def build_similarity_matrix(sentences, stop_words):\n",
    "    # Create an empty similarity matrix\n",
    "    similarity_matrix = np.zeros((len(sentences), len(sentences)))\n",
    " \n",
    "    for idx1 in range(len(sentences)):\n",
    "        for idx2 in range(len(sentences)):\n",
    "            if idx1 == idx2: #ignore if both are same sentences\n",
    "                continue \n",
    "            similarity_matrix[idx1][idx2] = sentence_similarity(sentences[idx1], sentences[idx2], stop_words)\n",
    "\n",
    "    return similarity_matrix"
   ]
  },
  {
   "cell_type": "code",
   "execution_count": 22,
   "metadata": {},
   "outputs": [],
   "source": [
    "def generate_summary(file_name, top_n=10):\n",
    "    nltk.download(\"stopwords\")\n",
    "    stop_words = stopwords.words('english')\n",
    "    summarize_text = []\n",
    "\n",
    "    # Step 1 - Read text anc split it\n",
    "    sentences =  read_article(file_name)\n",
    "\n",
    "    # Step 2 - Generate Similary Martix across sentences\n",
    "    sentence_similarity_martix = build_similarity_matrix(sentences, stop_words)\n",
    "\n",
    "    # Step 3 - Rank sentences in similarity martix\n",
    "    sentence_similarity_graph = nx.from_numpy_array(sentence_similarity_martix)\n",
    "    scores = nx.pagerank(sentence_similarity_graph)\n",
    "\n",
    "    # Step 4 - Sort the rank and pick top sentences\n",
    "    ranked_sentence = sorted(((scores[i],s) for i,s in enumerate(sentences)), reverse=True)    \n",
    "    print(\"Indexes of top ranked_sentence order are \", ranked_sentence)    \n",
    "\n",
    "    for i in range(top_n):\n",
    "        summarize_text.append(\" \".join(ranked_sentence[i][1]))\n",
    "\n",
    "    # Step 5 - Offcourse, output the summarize text\n",
    "    print(\"Summarize Text: \\n\", \". \".join(summarize_text))\n",
    "\n"
   ]
  },
  {
   "cell_type": "code",
   "execution_count": 23,
   "metadata": {},
   "outputs": [
    {
     "name": "stdout",
     "output_type": "stream",
     "text": [
      "A black hole is a region of spacetime where gravity is so strong that nothingâ€”no particles or even electromagnetic radiation such as lightâ€”can escape from it\n",
      "The theory of general relativity predicts that a sufficiently compact mass can deform spacetime to form a black hole\n",
      "The boundary of the region from which no escape is possible is called the event horizon\n",
      "Although the event horizon has an enormous effect on the fate and circumstances of an object crossing it, according to general relativity it has no locally detectable features\n",
      "In many ways, a black hole acts like an ideal black body, as it reflects no light\n",
      "Moreover, quantum field theory in curved spacetime predicts that event horizons emit Hawking radiation, with the same spectrum as a black body of a temperature inversely proportional to its mass\n",
      "This temperature is on the order of billionths of a kelvin for black holes of stellar mass, making it essentially impossible to observe\n",
      "Objects whose gravitational fields are too strong for light to escape were first considered in the 18th century by John Michell and Pierre-Simon Laplace\n",
      "The first modern solution of general relativity that would characterize a black hole was found by Karl Schwarzschild in 1916, although its interpretation as a region of space from which nothing can escape was first published by David Finkelstein in 1958\n",
      "Black holes were long considered a mathematical curiosity; it was not until the 1960s that theoretical work showed they were a generic prediction of general relativity\n",
      "The discovery of neutron stars by Jocelyn Bell Burnell in 1967 sparked interest in gravitationally collapsed compact objects as a possible astrophysical reality\n",
      "Black holes of stellar mass are expected to form when very massive stars collapse at the end of their life cycle\n",
      "After a black hole has formed, it can continue to grow by absorbing mass from its surroundings.\n",
      "Indexes of top ranked_sentence order are  [(0.1345244750154546, ['The', 'theory', 'of', 'general', 'relativity', 'predicts', 'that', 'a', 'sufficiently', 'compact', 'mass', 'can', 'deform', 'spacetime', 'to', 'form', 'a', 'black', 'hole']), (0.1069251493517693, ['A', 'black', 'hole', 'is', 'a', 'region', 'of', 'spacetime', 'where', 'gravity', 'is', 'so', 'strong', 'that', 'nothingâ€”no', 'particles', 'or', 'even', 'electromagnetic', 'radiation', 'such', 'as', 'lightâ€”can', 'escape', 'from', 'it']), (0.10541030101628658, ['The', 'first', 'modern', 'solution', 'of', 'general', 'relativity', 'that', 'would', 'characterize', 'a', 'black', 'hole', 'was', 'found', 'by', 'Karl', 'Schwarzschild', 'in', '1916,', 'although', 'its', 'interpretation', 'as', 'a', 'region', 'of', 'space', 'from', 'which', 'nothing', 'can', 'escape', 'was', 'first', 'published', 'by', 'David', 'Finkelstein', 'in', '1958']), (0.09804866685314137, ['In', 'many', 'ways,', 'a', 'black', 'hole', 'acts', 'like', 'an', 'ideal', 'black', 'body,', 'as', 'it', 'reflects', 'no', 'light']), (0.09120549144754836, ['Black', 'holes', 'were', 'long', 'considered', 'a', 'mathematical', 'curiosity;', 'it', 'was', 'not', 'until', 'the', '1960s', 'that', 'theoretical', 'work', 'showed', 'they', 'were', 'a', 'generic', 'prediction', 'of', 'general', 'relativity']), (0.0896835620751995, ['Black', 'holes', 'of', 'stellar', 'mass', 'are', 'expected', 'to', 'form', 'when', 'very', 'massive', 'stars', 'collapse', 'at', 'the', 'end', 'of', 'their', 'life', 'cycle']), (0.08484570590204996, ['Moreover,', 'quantum', 'field', 'theory', 'in', 'curved', 'spacetime', 'predicts', 'that', 'event', 'horizons', 'emit', 'Hawking', 'radiation,', 'with', 'the', 'same', 'spectrum', 'as', 'a', 'black', 'body', 'of', 'a', 'temperature', 'inversely', 'proportional', 'to', 'its', 'mass']), (0.07215393422769478, ['This', 'temperature', 'is', 'on', 'the', 'order', 'of', 'billionths', 'of', 'a', 'kelvin', 'for', 'black', 'holes', 'of', 'stellar', 'mass,', 'making', 'it', 'essentially', 'impossible', 'to', 'observe']), (0.07169328451014523, ['The', 'boundary', 'of', 'the', 'region', 'from', 'which', 'no', 'escape', 'is', 'possible', 'is', 'called', 'the', 'event', 'horizon']), (0.057649101724642667, ['Although', 'the', 'event', 'horizon', 'has', 'an', 'enormous', 'effect', 'on', 'the', 'fate', 'and', 'circumstances', 'of', 'an', 'object', 'crossing', 'it,', 'according', 'to', 'general', 'relativity', 'it', 'has', 'no', 'locally', 'detectable', 'features']), (0.05412369275889646, ['Objects', 'whose', 'gravitational', 'fields', 'are', 'too', 'strong', 'for', 'light', 'to', 'escape', 'were', 'first', 'considered', 'in', 'the', '18th', 'century', 'by', 'John', 'Michell', 'and', 'Pierre-Simon', 'Laplace']), (0.033736635117170954, ['The', 'discovery', 'of', 'neutron', 'stars', 'by', 'Jocelyn', 'Bell', 'Burnell', 'in', '1967', 'sparked', 'interest', 'in', 'gravitationally', 'collapsed', 'compact', 'objects', 'as', 'a', 'possible', 'astrophysical', 'reality'])]\n",
      "Summarize Text: \n",
      " The theory of general relativity predicts that a sufficiently compact mass can deform spacetime to form a black hole. A black hole is a region of spacetime where gravity is so strong that nothingâ€”no particles or even electromagnetic radiation such as lightâ€”can escape from it\n"
     ]
    },
    {
     "name": "stderr",
     "output_type": "stream",
     "text": [
      "[nltk_data] Downloading package stopwords to\n",
      "[nltk_data]     C:\\Users\\shahp\\AppData\\Roaming\\nltk_data...\n",
      "[nltk_data]   Package stopwords is already up-to-date!\n"
     ]
    }
   ],
   "source": [
    "generate_summary(\"article2.txt\", 2)"
   ]
  },
  {
   "cell_type": "code",
   "execution_count": null,
   "metadata": {},
   "outputs": [],
   "source": []
  }
 ],
 "metadata": {
  "kernelspec": {
   "display_name": "Python 3",
   "language": "python",
   "name": "python3"
  },
  "language_info": {
   "codemirror_mode": {
    "name": "ipython",
    "version": 3
   },
   "file_extension": ".py",
   "mimetype": "text/x-python",
   "name": "python",
   "nbconvert_exporter": "python",
   "pygments_lexer": "ipython3",
   "version": "3.8.3"
  }
 },
 "nbformat": 4,
 "nbformat_minor": 4
}
